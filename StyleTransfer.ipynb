{
 "cells": [
  {
   "cell_type": "markdown",
   "metadata": {},
   "source": [
    "### Importing all the libraries"
   ]
  },
  {
   "cell_type": "code",
   "execution_count": 1,
   "metadata": {},
   "outputs": [
    {
     "name": "stderr",
     "output_type": "stream",
     "text": [
      "Using TensorFlow backend.\n"
     ]
    }
   ],
   "source": [
    "from keras.preprocessing.image import load_img, img_to_array"
   ]
  },
  {
   "cell_type": "code",
   "execution_count": 2,
   "metadata": {},
   "outputs": [],
   "source": [
    "target_image_path = 'content.jpg'\n",
    "style_reference_image_path = 'style.jpg'\n",
    "width, height = load_img(target_image_path).size\n",
    "img_height = 400\n",
    "img_width = int(width * img_height / height)\n"
   ]
  },
  {
   "cell_type": "code",
   "execution_count": 3,
   "metadata": {},
   "outputs": [],
   "source": [
    "import numpy as np\n",
    "from keras.applications import vgg19\n",
    "def preprocess_image(image_path):\n",
    "    \n",
    "    img = load_img(image_path, target_size=(img_height, img_width))\n",
    "    img = img_to_array(img)\n",
    "    img = np.expand_dims(img, axis=0)\n",
    "    img = vgg19.preprocess_input(img)\n",
    "    return img"
   ]
  },
  {
   "cell_type": "code",
   "execution_count": 4,
   "metadata": {},
   "outputs": [],
   "source": [
    "def deprocess_image(x):\n",
    "    x[:, :, 0] += 103.939\n",
    "    x[:, :, 1] += 116.779\n",
    "    x[:, :, 2] += 123.68\n",
    "    x = x[:, :, ::-1]\n",
    "    x = np.clip(x, 0, 255).astype('uint8')\n",
    "    return x"
   ]
  },
  {
   "cell_type": "code",
   "execution_count": 5,
   "metadata": {},
   "outputs": [
    {
     "name": "stdout",
     "output_type": "stream",
     "text": [
      "Model loaded.\n"
     ]
    }
   ],
   "source": [
    "from keras import backend as K\n",
    "target_image = K.constant(preprocess_image(target_image_path))\n",
    "style_reference_image = K.constant(preprocess_image(style_reference_image_path))\n",
    "combination_image = K.placeholder((1, img_height, img_width, 3))\n",
    "input_tensor = K.concatenate([target_image,\n",
    "style_reference_image,\n",
    "combination_image], axis=0)\n",
    "model = vgg19.VGG19(input_tensor=input_tensor,\n",
    "weights='imagenet',\n",
    "include_top=False)\n",
    "print('Model loaded.')"
   ]
  },
  {
   "cell_type": "code",
   "execution_count": 6,
   "metadata": {},
   "outputs": [],
   "source": [
    "def content_loss(base, combination):\n",
    "    return K.sum(K.square(combination - base))"
   ]
  },
  {
   "cell_type": "code",
   "execution_count": 7,
   "metadata": {},
   "outputs": [],
   "source": [
    "def gram_matrix(x):\n",
    "    features = K.batch_flatten(K.permute_dimensions(x, (2, 0, 1)))\n",
    "    gram = K.dot(features, K.transpose(features))\n",
    "    return gram"
   ]
  },
  {
   "cell_type": "code",
   "execution_count": 8,
   "metadata": {},
   "outputs": [],
   "source": [
    "def style_loss(style, combination):\n",
    "    S = gram_matrix(style)\n",
    "    C = gram_matrix(combination)\n",
    "    channels = 3\n",
    "    size = img_height * img_width\n",
    "    return K.sum(K.square(S - C)) / (4. * (channels ** 2) * (size ** 2))"
   ]
  },
  {
   "cell_type": "code",
   "execution_count": 9,
   "metadata": {},
   "outputs": [],
   "source": [
    "def total_variation_loss(x):\n",
    "    a = K.square(\n",
    "    x[:, :img_height - 1, :img_width - 1, :] -\n",
    "    x[:, 1:, :img_width - 1, :])\n",
    "    b = K.square(\n",
    "    x[:, :img_height - 1, :img_width - 1, :] -\n",
    "    x[:, :img_height - 1, 1:, :])\n",
    "    return K.sum(K.pow(a + b, 1.25))"
   ]
  },
  {
   "cell_type": "code",
   "execution_count": 10,
   "metadata": {},
   "outputs": [],
   "source": [
    "outputs_dict = dict([(layer.name, layer.output) for layer in model.layers])\n",
    "content_layer = 'block5_conv2'\n",
    "style_layers = ['block1_conv1',\n",
    "'block2_conv1',\n",
    "'block3_conv1',\n",
    "'block4_conv1',\n",
    "'block5_conv1']\n",
    "total_variation_weight = 1e-4\n",
    "style_weight = 1.\n",
    "content_weight = 0.025"
   ]
  },
  {
   "cell_type": "code",
   "execution_count": 11,
   "metadata": {},
   "outputs": [],
   "source": [
    "loss = K.variable(0.)\n",
    "layer_features = outputs_dict[content_layer]\n",
    "target_image_features = layer_features[0, :, :, :]\n",
    "combination_features = layer_features[2, :, :, :]\n",
    "loss =loss+ content_weight * content_loss(target_image_features,\n",
    "combination_features)\n",
    "for layer_name in style_layers:\n",
    "        layer_features = outputs_dict[layer_name]\n",
    "        style_reference_features = layer_features[1, :, :, :]\n",
    "        combination_features = layer_features[2, :, :, :]\n",
    "        sl = style_loss(style_reference_features, combination_features)\n",
    "        loss += (style_weight / len(style_layers)) * sl\n",
    "        loss += total_variation_weight * total_variation_loss(combination_image)"
   ]
  },
  {
   "cell_type": "code",
   "execution_count": 12,
   "metadata": {},
   "outputs": [],
   "source": [
    "grads = K.gradients(loss, combination_image)[0]\n",
    "fetch_loss_and_grads = K.function([combination_image], [loss, grads])\n",
    "class Evaluator(object):\n",
    "    def __init__(self):\n",
    "        self.loss_value = None\n",
    "        self.grads_values = None\n",
    "    def loss(self, x):\n",
    "        assert self.loss_value is None\n",
    "        x = x.reshape((1, img_height, img_width, 3))\n",
    "        outs = fetch_loss_and_grads([x])\n",
    "        loss_value = outs[0]\n",
    "        grad_values = outs[1].flatten().astype('float64')\n",
    "        self.loss_value = loss_value\n",
    "        self.grad_values = grad_values\n",
    "        return self.loss_value\n",
    "    def grads(self, x):\n",
    "        assert self.loss_value is not None\n",
    "        grad_values = np.copy(self.grad_values)\n",
    "        self.loss_value = None\n",
    "        self.grad_values = None\n",
    "        return grad_values\n",
    "evaluator = Evaluator()"
   ]
  },
  {
   "cell_type": "code",
   "execution_count": 13,
   "metadata": {},
   "outputs": [
    {
     "name": "stdout",
     "output_type": "stream",
     "text": [
      "Start of iteration 0\n",
      "Current loss value: 593811840.0\n",
      "Image saved as my_result_at_iteration_0.png\n",
      "Iteration 0 completed in 172s\n",
      "Start of iteration 1\n"
     ]
    },
    {
     "name": "stderr",
     "output_type": "stream",
     "text": [
      "c:\\users\\fenny\\appdata\\local\\programs\\python\\python36\\lib\\site-packages\\ipykernel_launcher.py:16: DeprecationWarning: `imsave` is deprecated!\n",
      "`imsave` is deprecated in SciPy 1.0.0, and will be removed in 1.2.0.\n",
      "Use ``imageio.imwrite`` instead.\n",
      "  app.launch_new_instance()\n"
     ]
    },
    {
     "name": "stdout",
     "output_type": "stream",
     "text": [
      "Current loss value: 220768480.0\n",
      "Image saved as my_result_at_iteration_1.png\n",
      "Iteration 1 completed in 173s\n",
      "Start of iteration 2\n",
      "Current loss value: 131494560.0\n",
      "Image saved as my_result_at_iteration_2.png\n",
      "Iteration 2 completed in 194s\n",
      "Start of iteration 3\n",
      "Current loss value: 105105140.0\n",
      "Image saved as my_result_at_iteration_3.png\n",
      "Iteration 3 completed in 188s\n",
      "Start of iteration 4\n",
      "Current loss value: 84909400.0\n",
      "Image saved as my_result_at_iteration_4.png\n",
      "Iteration 4 completed in 170s\n",
      "Start of iteration 5\n",
      "Current loss value: 74383464.0\n",
      "Image saved as my_result_at_iteration_5.png\n",
      "Iteration 5 completed in 130s\n",
      "Start of iteration 6\n",
      "Current loss value: 67574650.0\n",
      "Image saved as my_result_at_iteration_6.png\n",
      "Iteration 6 completed in 130s\n",
      "Start of iteration 7\n",
      "Current loss value: 60554960.0\n",
      "Image saved as my_result_at_iteration_7.png\n",
      "Iteration 7 completed in 130s\n",
      "Start of iteration 8\n",
      "Current loss value: 55760024.0\n",
      "Image saved as my_result_at_iteration_8.png\n",
      "Iteration 8 completed in 130s\n",
      "Start of iteration 9\n",
      "Current loss value: 52318748.0\n",
      "Image saved as my_result_at_iteration_9.png\n",
      "Iteration 9 completed in 130s\n",
      "Start of iteration 10\n",
      "Current loss value: 49760916.0\n",
      "Image saved as my_result_at_iteration_10.png\n",
      "Iteration 10 completed in 130s\n",
      "Start of iteration 11\n",
      "Current loss value: 47659092.0\n",
      "Image saved as my_result_at_iteration_11.png\n",
      "Iteration 11 completed in 130s\n",
      "Start of iteration 12\n",
      "Current loss value: 45608896.0\n",
      "Image saved as my_result_at_iteration_12.png\n",
      "Iteration 12 completed in 130s\n",
      "Start of iteration 13\n",
      "Current loss value: 43906156.0\n",
      "Image saved as my_result_at_iteration_13.png\n",
      "Iteration 13 completed in 130s\n",
      "Start of iteration 14\n",
      "Current loss value: 41742572.0\n",
      "Image saved as my_result_at_iteration_14.png\n",
      "Iteration 14 completed in 134s\n",
      "Start of iteration 15\n",
      "Current loss value: 39363720.0\n",
      "Image saved as my_result_at_iteration_15.png\n",
      "Iteration 15 completed in 122s\n",
      "Start of iteration 16\n",
      "Current loss value: 37456524.0\n",
      "Image saved as my_result_at_iteration_16.png\n",
      "Iteration 16 completed in 96s\n",
      "Start of iteration 17\n",
      "Current loss value: 35980028.0\n",
      "Image saved as my_result_at_iteration_17.png\n",
      "Iteration 17 completed in 96s\n",
      "Start of iteration 18\n",
      "Current loss value: 34313708.0\n",
      "Image saved as my_result_at_iteration_18.png\n",
      "Iteration 18 completed in 96s\n",
      "Start of iteration 19\n",
      "Current loss value: 33214124.0\n",
      "Image saved as my_result_at_iteration_19.png\n",
      "Iteration 19 completed in 96s\n",
      "Start of iteration 20\n",
      "Current loss value: 32327406.0\n",
      "Image saved as my_result_at_iteration_20.png\n",
      "Iteration 20 completed in 96s\n",
      "Start of iteration 21\n",
      "Current loss value: 31462542.0\n",
      "Image saved as my_result_at_iteration_21.png\n",
      "Iteration 21 completed in 96s\n",
      "Start of iteration 22\n",
      "Current loss value: 30792694.0\n",
      "Image saved as my_result_at_iteration_22.png\n",
      "Iteration 22 completed in 97s\n",
      "Start of iteration 23\n",
      "Current loss value: 30315796.0\n",
      "Image saved as my_result_at_iteration_23.png\n",
      "Iteration 23 completed in 96s\n",
      "Start of iteration 24\n",
      "Current loss value: 29764356.0\n",
      "Image saved as my_result_at_iteration_24.png\n",
      "Iteration 24 completed in 96s\n"
     ]
    }
   ],
   "source": [
    "from scipy.optimize import fmin_l_bfgs_b\n",
    "from scipy.misc import imsave\n",
    "import time\n",
    "result_prefix = 'my_result'\n",
    "iterations = 25\n",
    "x = preprocess_image(target_image_path)\n",
    "x = x.flatten()\n",
    "for i in range(iterations):\n",
    "    print('Start of iteration', i)\n",
    "    start_time = time.time()\n",
    "    x, min_val, info = fmin_l_bfgs_b(evaluator.loss,x,fprime=evaluator.grads,maxfun=20)\n",
    "    print('Current loss value:', min_val)\n",
    "    img = x.copy().reshape((img_height, img_width, 3))\n",
    "    img = deprocess_image(img)\n",
    "    fname = result_prefix + '_at_iteration_%d.png' % i\n",
    "    imsave(fname, img)\n",
    "    print('Image saved as', fname)\n",
    "    end_time = time.time()\n",
    "    print('Iteration %d completed in %ds' % (i, end_time - start_time))"
   ]
  },
  {
   "cell_type": "code",
   "execution_count": null,
   "metadata": {},
   "outputs": [],
   "source": []
  }
 ],
 "metadata": {
  "kernelspec": {
   "display_name": "Python 3",
   "language": "python",
   "name": "python3"
  },
  "language_info": {
   "codemirror_mode": {
    "name": "ipython",
    "version": 3
   },
   "file_extension": ".py",
   "mimetype": "text/x-python",
   "name": "python",
   "nbconvert_exporter": "python",
   "pygments_lexer": "ipython3",
   "version": "3.6.3"
  }
 },
 "nbformat": 4,
 "nbformat_minor": 2
}
